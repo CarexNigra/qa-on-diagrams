{
 "cells": [
  {
   "cell_type": "markdown",
   "metadata": {},
   "source": [
    "### Import libs"
   ]
  },
  {
   "cell_type": "code",
   "execution_count": 1,
   "metadata": {},
   "outputs": [],
   "source": [
    "import os\n",
    "import random\n",
    "import shutil\n",
    "import json"
   ]
  },
  {
   "cell_type": "markdown",
   "metadata": {},
   "source": [
    "### Copy data"
   ]
  },
  {
   "cell_type": "code",
   "execution_count": 3,
   "metadata": {},
   "outputs": [],
   "source": [
    "# (1) Select X random image file names and copy to destination folder\n",
    "\n",
    "source_dir = '../FlowLearn/FlowLearn/SciFlowchart/images/'\n",
    "destination_dir = './data/images/'\n",
    "\n",
    "os.makedirs(destination_dir, exist_ok=True)\n",
    "\n",
    "all_files = os.listdir(source_dir)\n",
    "selected_image_files = random.sample(all_files, 100)\n",
    "\n",
    "for file_name in selected_image_files:\n",
    "    src_path = os.path.join(source_dir, file_name)\n",
    "    dst_path = os.path.join(destination_dir, file_name)\n",
    "    shutil.copy(src_path, dst_path)\n",
    "\n",
    "print(f\"Copied {len(selected_image_files)} files to {destination_dir}\")\n",
    "print(list(selected_image_files))"
   ]
  },
  {
   "cell_type": "code",
   "execution_count": 4,
   "metadata": {},
   "outputs": [],
   "source": [
    "selected_image_files = ['2102.09850v1-Figure1-1.png', '1245438-Figure1-1.png', '2011.11761v2-Figure5-1.png', '2102.13177v3-Figure3-1.png', '2204.04370v1-Figure7-1.png', '2204.10765v1-Figure1-1.png', '2202.06593v2-Figure3-1.png', '818973-Figure1-1.png', '210157154-Figure2-1.png', '2102.08307v1-Figure1-1.png', '2204.07810v1-Figure3-1.png', '2012.09966v2-Figure6-1.png', '2205.13948v1-Figure4-1.png', '2202.01862v1-Figure3-1.png', '2011.12879v4-Figure1-1.png', '2103.14969v2-Figure7-1.png', '2107.07001v1-Figure1-1.png', '2010.02256v1-Figure4-1.png', '1339538-Figure3-1.png', '2103.04784v1-Figure1-1.png', '2207.05078v1-Figure1-1.png', '2102.02111v2-Figure12-1.png', '2107.09008v2-Figure5-1.png', '2101.11093v2-Figure1-1.png', '2204.03140v1-Figure4-1.png', '2011.06150v1-Figure1-1.png', '407011-Figure3-1.png', '2205.14970v2-Figure2-1.png', '2011.04337v1-Figure1-1.png', '113902-Figure1-1.png', '2204.08763v1-Figure2-1.png', '2107.09896v2-Figure1-1.png', '2110.06467v3-Figure1-1.png', '2102.10283v1-Figure6-1.png', '2107.11990v2-Figure5-1.png', '2102.05981v1-Figure2-1.png', '2010.10872v1-Figure6-1.png', '1360152-Figure1-1.png', '2101.07890v1-Figure1-1.png', '2010.15908v1-Figure1-1.png', '2210.01528v1-Figure3-1.png', '2010.15032v3-Figure3-1.png', '1356505-Figure1-1.png', '12030503-Figure3-1.png', '2202.11039v1-Figure6-1.png', '2202.03158v1-Figure2-1.png', '2011.06192v3-Figure5-1.png', '2202.08098v1-Figure3-1.png', '2101.11681v1-Figure1-1.png', '2207.09387v1-Figure1-1.png', '2101.07295v5-Figure17-1.png', '2011.14347v2-Figure1-1.png', '2010.02825v1-Figure1-1.png', '2102.02282v1-Figure3-1.png', '2011.05139v1-Figure1-1.png', '2207.09399v1-Figure5-1.png', '2011.09340v3-Figure9-1.png', '2102.02111v2-Figure6-1.png', '2102.10590v1-Figure1-1.png', '2107.03564v1-Figure2-1.png', '2102.05444v2-Figure2-1.png', '2204.07309v1-Figure10-1.png', '2010.15485v1-Figure1-1.png', '203952961-Figure1-1.png', '2107.04236v1-Figure1-1.png', '2010.10382v1-Figure23-1.png', '2202.10169v2-Figure7-1.png', '2012.09727v2-Figure1-1.png', '1382157-Figure1-1.png', '2101.00124v2-Figure3-1.png', '2010.06632v1-Figure2-1.png', '2202.10337v1-Figure2-1.png', '2205.09510v2-Figure6.5-1.png', '2202.02380v1-Figure10-1.png', '2012.05647v1-Figure2-1.png', '2010.01319v3-Figure1-1.png', '2010.03465v1-Figure1-1.png', '2101.08385v1-Figure4-1.png', '2010.10651v1-Figure2-1.png', '2110.02192v2-Figure3-1.png', '2101.09491v3-Figure14-1.png', '2202.09450v1-Figure49-1.png', '2011.03307v2-Figure11-1.png', '812374-Figure2-1.png', '2206.01256v2-Figure2-1.png', '2109.09214v1-Figure2-1.png', '2010.07860v3-Figure1-1.png', '2010.10382v1-Figure24-1.png', '2102.11165v1-Figure2-1.png', '2102.13346v4-Figure1-1.png', '2101.05996v1-Figure1-1.png', '2102.09837v1-Figure2-1.png', '2110.15569v1-Figure1-1.png', '2103.06819v3-Figure1-1.png', '2010.04560v3-Figure9-1.png', '212717935-Figure1-1.png', '2101.03207v1-Figure1-1.png', '177535-Figure7-1.png', '2210.00705v2-Figure2-1.png', '52459-Figure1-1.png']"
   ]
  },
  {
   "cell_type": "code",
   "execution_count": 5,
   "metadata": {},
   "outputs": [],
   "source": [
    "# (2) Open json files from the list, select relevant data for selected images, merge into a single dict\n",
    "\n",
    "source_dir = '../FlowLearn/FlowLearn/SciFlowchart/'\n",
    "all_files = os.listdir(source_dir)\n",
    "\n",
    "jsons = [f for f in all_files if \".json\" in f]\n",
    "\n",
    "all_parsed_img_data = {}\n",
    "\n",
    "for f in jsons:\n",
    "    file_path = os.path.join(source_dir, f)\n",
    "\n",
    "    with open(file_path, 'r') as json_file:\n",
    "        data = json.load(json_file)\n",
    "        if type(data) == dict:\n",
    "            for img in selected_image_files:\n",
    "                if img in data:\n",
    "                    if img not in all_parsed_img_data:\n",
    "                        all_parsed_img_data[img] = data[img]\n",
    "                    else:\n",
    "                        all_parsed_img_data[img].update(data[img])\n",
    "        \n",
    "        elif type(data) == list:\n",
    "            for img in selected_image_files:\n",
    "                for i in data:\n",
    "                    if img == i['image_file']: \n",
    "                        if img not in all_parsed_img_data:\n",
    "                            all_parsed_img_data[img] = i\n",
    "                        else:\n",
    "                            all_parsed_img_data[img].update(i)\n",
    "\n",
    "\n",
    "file_path = './data/01_img_json_raw_additional.json'\n",
    "with open(file_path, 'w') as file:\n",
    "    json.dump(all_parsed_img_data, file, indent=4)"
   ]
  },
  {
   "cell_type": "code",
   "execution_count": 6,
   "metadata": {},
   "outputs": [],
   "source": [
    "# (3) Remove irrelevant kyes\n",
    "\n",
    "irrelevant_keys = ['renderDpi', 'Figure Number', 'page', 'figType', 'regionBoundary', 'captionBoundary', 'file_name'] \n",
    "\n",
    "for dk in all_parsed_img_data:\n",
    "    all_parsed_img_data[dk] = {k: v for k, v in all_parsed_img_data[dk].items() if k not in irrelevant_keys}\n",
    "    # all_parsed_img_data_list_clean.append(new_dict)\n",
    "\n",
    "file_path = './data/02_img_json_relevant_keys_additional.json'\n",
    "with open(file_path, 'w') as file:\n",
    "    json.dump(all_parsed_img_data, file, indent=4)\n"
   ]
  }
 ],
 "metadata": {
  "kernelspec": {
   "display_name": ".venv",
   "language": "python",
   "name": "python3"
  },
  "language_info": {
   "codemirror_mode": {
    "name": "ipython",
    "version": 3
   },
   "file_extension": ".py",
   "mimetype": "text/x-python",
   "name": "python",
   "nbconvert_exporter": "python",
   "pygments_lexer": "ipython3",
   "version": "3.11.9"
  }
 },
 "nbformat": 4,
 "nbformat_minor": 2
}
