{
 "cells": [
  {
   "cell_type": "code",
   "execution_count": null,
   "metadata": {},
   "outputs": [],
   "source": [
    "import pandas as pd"
   ]
  },
  {
   "cell_type": "code",
   "execution_count": null,
   "metadata": {},
   "outputs": [],
   "source": [
    "from datasets import Dataset\n",
    "from ragas.metrics import answer_correctness\n",
    "from ragas import evaluate\n",
    "\n",
    "\n",
    "data_samples = {\n",
    "    'question': [\n",
    "        'When was the first Super Bowl?',\n",
    "        'Which team has won the most Super Bowls?'\n",
    "    ],\n",
    "    'answer': [\n",
    "        'The first Super Bowl was held on January 15, 1967.',\n",
    "        'The New England Patriots have won the most Super Bowls.'\n",
    "    ],\n",
    "    'ground_truth': [\n",
    "        'The first Super Bowl took place on January 15, 1967.',\n",
    "        'The Pittsburgh Steelers have won the most Super Bowls.'\n",
    "    ]\n",
    "}\n",
    "\n",
    "dataset = Dataset.from_dict(data_samples)\n",
    "results = evaluate(dataset, metrics=[answer_correctness])\n",
    "\n",
    "print(results)\n"
   ]
  }
 ],
 "metadata": {
  "kernelspec": {
   "display_name": ".venv",
   "language": "python",
   "name": "python3"
  },
  "language_info": {
   "name": "python",
   "version": "3.11.11"
  }
 },
 "nbformat": 4,
 "nbformat_minor": 2
}
