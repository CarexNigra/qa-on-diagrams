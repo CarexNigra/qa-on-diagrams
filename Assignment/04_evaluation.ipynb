{
 "cells": [
  {
   "cell_type": "code",
   "execution_count": 1,
   "metadata": {},
   "outputs": [
    {
     "data": {
      "text/plain": [
       "True"
      ]
     },
     "execution_count": 1,
     "metadata": {},
     "output_type": "execute_result"
    }
   ],
   "source": [
    "from dotenv import load_dotenv\n",
    "load_dotenv()"
   ]
  },
  {
   "cell_type": "code",
   "execution_count": null,
   "metadata": {},
   "outputs": [],
   "source": [
    "import os\n",
    "import json\n",
    "import time\n",
    "\n",
    "from datasets import Dataset\n",
    "from ragas.metrics import answer_correctness\n",
    "from ragas import evaluate\n",
    "from ragas.llms import LangchainLLMWrapper\n",
    "from ragas.run_config import RunConfig\n",
    "from langchain_openai import ChatOpenAI, OpenAIEmbeddings"
   ]
  },
  {
   "cell_type": "code",
   "execution_count": 13,
   "metadata": {},
   "outputs": [],
   "source": [
    "with open(\"./data/qna_results.json\", \"r\") as f:\n",
    "    results = json.load(f)"
   ]
  },
  {
   "cell_type": "code",
   "execution_count": null,
   "metadata": {},
   "outputs": [],
   "source": [
    "api_key = os.environ.get(\"OPENAI_API_KEY\")\n",
    "chat_model = ChatOpenAI(model=\"gpt-4o\", api_key=api_key)\n",
    "evaluator_llm = LangchainLLMWrapper(chat_model)\n",
    "embedder = OpenAIEmbeddings(model=\"text-embedding-3-small\", api_key=api_key)\n",
    "run_config = RunConfig(max_workers=2) # reduce to 2, to not reach token/min throughput limit"
   ]
  },
  {
   "cell_type": "code",
   "execution_count": 15,
   "metadata": {},
   "outputs": [
    {
     "data": {
      "text/plain": [
       "200"
      ]
     },
     "execution_count": 15,
     "metadata": {},
     "output_type": "execute_result"
    }
   ],
   "source": [
    "len(results[\"question\"])"
   ]
  },
  {
   "cell_type": "code",
   "execution_count": null,
   "metadata": {},
   "outputs": [],
   "source": [
    "answers_keys = [k for k in list(results.keys()) if k.endswith((\"text\", \"image\"))]\n",
    "for answer_key in answers_keys:\n",
    "    data_samples = {\n",
    "        'question': results[\"question\"],\n",
    "        'answer': results[answer_key],\n",
    "        'ground_truth': results[\"answer\"],\n",
    "    }\n",
    "    \n",
    "    dataset = Dataset.from_dict(data_samples)\n",
    "    eval_results = evaluate(\n",
    "        dataset, \n",
    "        llm=evaluator_llm, \n",
    "        embeddings=embedder, \n",
    "        metrics=[answer_correctness],\n",
    "        run_config=run_config,\n",
    "    )\n",
    "    \n",
    "    with open(f\"./data/eval_{answer_key}.json\", \"w\") as f:\n",
    "        json.dump(eval_results.scores, f)\n",
    "        \n",
    "    time.sleep(10) # wait for 10sec just for rate limiting \n",
    "    print(f\"{answer_key} | {eval_results}\")"
   ]
  },
  {
   "cell_type": "code",
   "execution_count": null,
   "metadata": {},
   "outputs": [],
   "source": []
  }
 ],
 "metadata": {
  "kernelspec": {
   "display_name": ".venv",
   "language": "python",
   "name": "python3"
  },
  "language_info": {
   "codemirror_mode": {
    "name": "ipython",
    "version": 3
   },
   "file_extension": ".py",
   "mimetype": "text/x-python",
   "name": "python",
   "nbconvert_exporter": "python",
   "pygments_lexer": "ipython3",
   "version": "3.11.11"
  }
 },
 "nbformat": 4,
 "nbformat_minor": 2
}
